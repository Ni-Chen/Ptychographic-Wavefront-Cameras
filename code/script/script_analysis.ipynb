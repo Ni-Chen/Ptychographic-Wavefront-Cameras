{
 "cells": [
  {
   "cell_type": "markdown",
   "id": "4ff5479e",
   "metadata": {},
   "source": [
    "## Theory Analysis of Pychographic Wavefront Camera\n",
    "\n",
    "- Author: Ni Chen\n",
    "- Date: 2024"
   ]
  },
  {
   "cell_type": "code",
   "execution_count": 1,
   "id": "a6d8942a",
   "metadata": {
    "scrolled": true
   },
   "outputs": [],
   "source": [
    "import sys\n",
    "sys.path.append(f'../')\n",
    "from util import *\n",
    "\n",
    "from FP import *\n",
    "\n",
    "from fractions import Fraction\n",
    "from IPython.display import Image\n",
    "\n",
    "%load_ext autoreload\n",
    "%autoreload 2\n",
    "\n",
    "torch.set_default_dtype(torch.float64)\n",
    "\n",
    "device = \"cuda\" if torch.cuda.is_available() else \"cpu\"\n",
    "\n",
    "is_band_limit=False\n",
    "if is_band_limit==True:\n",
    "    out_dir = 'output_band'\n",
    "else:\n",
    "    out_dir = 'output'\n",
    "\n",
    "plt.rcParams['figure.figsize'] = [6, 3]\n",
    "plt.rcParams['figure.dpi'] = 120\n",
    "plt.rcParams['savefig.dpi'] = 120\n",
    "plt.rcParams.update({'font.size': 14})\n",
    "\n",
    "\n",
    "N_hr = 256\n",
    "method = 'gs_gd'\n",
    "ratio_aperture_obj = [1/8, 2/8, 3/8, 4/8, 5/8, 6/8, 7/8]\n",
    "ratio_spacing_aperture = [1/8, 2/8, 3/8, 4/8, 5/8, 6/8, 7/8]\n",
    "photons = [1e2, 1e3, 1e4, 1e5, 1e6]"
   ]
  },
  {
   "cell_type": "markdown",
   "id": "7643d745",
   "metadata": {},
   "source": [
    "## MSE vs. overlapping ratio"
   ]
  },
  {
   "cell_type": "code",
   "execution_count": 3,
   "id": "859711e9",
   "metadata": {},
   "outputs": [],
   "source": [
    "%reload_ext autoreload\n",
    "from FP import *\n",
    "\n",
    "N_lrs = [64, 96, 128, 160, 192, 224]\n",
    "\n",
    "for N_lr in N_lrs:\n",
    "    MSE_cpx_list = []\n",
    "    MSE_ang_list = []\n",
    "    MSE_amp_list = []\n",
    "    PSNR_ang_list = []\n",
    "    PSNR_amp_list = []\n",
    "    \n",
    "    for ol in ratio_spacing_aperture:\n",
    "        print(f'=========== Overlapping ratio is {ol} ===========')\n",
    "\n",
    "        metrics = group_test_exclude(try_num=2, N_hr=N_hr, N_lr=N_lr, padding=1, aperture_num=None, \n",
    "                             is_band_limit=is_band_limit,\n",
    "                             overlapping_ratio=1-ol, method=method, device=device)\n",
    "\n",
    "        MSE_cpx_list.append(metrics[0])\n",
    "        MSE_ang_list.append(metrics[1])\n",
    "        MSE_amp_list.append(metrics[2])\n",
    "        PSNR_ang_list.append(metrics[3])\n",
    "        PSNR_amp_list.append(metrics[4])\n",
    "\n",
    "    np.save(f'./{out_dir}/mse_vs_overlapping_Nlr{N_lr}.npy', \n",
    "            [MSE_cpx_list, MSE_ang_list, MSE_amp_list, PSNR_ang_list, PSNR_amp_list])\n"
   ]
  },
  {
   "cell_type": "markdown",
   "id": "45c14657-a602-4ef3-afdf-661709cbfc0a",
   "metadata": {},
   "source": [
    "## MSE vs. aperture number"
   ]
  },
  {
   "cell_type": "code",
   "execution_count": null,
   "id": "9bd5630a-d9df-47a8-a0bb-db547e6f076c",
   "metadata": {},
   "outputs": [],
   "source": [
    "%reload_ext autoreload\n",
    "from FP import *\n",
    "\n",
    "\n",
    "N_lrs = [64, 96, 128, 160, 192, 224]\n",
    "N_pupils = [np.arange(2, 30, 1), np.arange(2, 30, 1), np.arange(2, 10, 1), np.arange(2, 9, 1), np.arange(2, 8, 1), np.arange(2, 7, 1)]\n",
    "\n",
    "for N_lr, N_pupils in zip(N_lrs, N_pupils):\n",
    "    MSE_cpx_list = []\n",
    "    MSE_ang_list = []\n",
    "    MSE_amp_list = []\n",
    "    PSNR_ang_list = []\n",
    "    PSNR_amp_list = []\n",
    "\n",
    "    for N_p in N_pupils:\n",
    "        print(f'=========== Aperture number is {N_p**2} ===========')\n",
    "\n",
    "        metrics = group_test_exclude(try_num=5, N_hr=N_hr, N_lr=N_lr, padding=1, \n",
    "                             aperture_num=N_p, is_band_limit=is_band_limit,\n",
    "                             overlapping_ratio=0.75, method=method, device=device)\n",
    "\n",
    "        MSE_cpx_list.append(metrics[0])\n",
    "        MSE_ang_list.append(metrics[1])\n",
    "        MSE_amp_list.append(metrics[2])\n",
    "        PSNR_ang_list.append(metrics[3])\n",
    "        PSNR_amp_list.append(metrics[4])\n",
    "\n",
    "\n",
    "    np.save(f'./{out_dir}/mse_vs_aperture_number_Nlr{N_lr}.npy', \n",
    "            [MSE_cpx_list, MSE_ang_list, MSE_amp_list, PSNR_ang_list, PSNR_amp_list])"
   ]
  },
  {
   "cell_type": "markdown",
   "id": "072b16fd-bfb4-45b8-aa65-d9b7585e71af",
   "metadata": {},
   "source": [
    "## MSE vs. aperture size"
   ]
  },
  {
   "cell_type": "code",
   "execution_count": null,
   "id": "ca7fe4cd-94ac-4bf1-9520-4da0e471d698",
   "metadata": {},
   "outputs": [],
   "source": [
    "%reload_ext autoreload\n",
    "from FP import *\n",
    "\n",
    "spacings=[0.15, 0.25, 0.35, 0.45, 0.55, 0.65, 0.75]\n",
    "for s in spacings:\n",
    "    MSE_cpx_list = []\n",
    "    MSE_ang_list = []\n",
    "    MSE_amp_list = []\n",
    "    PSNR_ang_list = []\n",
    "    PSNR_amp_list = []\n",
    "\n",
    "    for N_lr in ratio_aperture_obj:\n",
    "        print(f'=========== Aperture size is {N_lr} ===========')\n",
    "        N_lr_single = N_lr*N_hr\n",
    "        \n",
    "        metrics = group_test_exclude(try_num=2, N_hr=N_hr, N_lr=N_lr_single, padding=1, \n",
    "                            aperture_num=None, is_band_limit=is_band_limit,\n",
    "                            overlapping_ratio=1-s, method=method, device=device)\n",
    "        \n",
    "        MSE_cpx_list.append(metrics[0])\n",
    "        MSE_ang_list.append(metrics[1])\n",
    "        MSE_amp_list.append(metrics[2])\n",
    "        PSNR_ang_list.append(metrics[3])\n",
    "        PSNR_amp_list.append(metrics[4])\n",
    "\n",
    "    np.save(f'./{out_dir}/mse_vs_aperture_size_s{s}.npy', \n",
    "            [MSE_cpx_list, MSE_ang_list, MSE_amp_list, PSNR_ang_list, PSNR_amp_list])"
   ]
  },
  {
   "cell_type": "markdown",
   "id": "0a774702-363b-424d-abf1-6fb2bdda8231",
   "metadata": {},
   "source": [
    "## MSE vs. aperture number and object complexity"
   ]
  },
  {
   "cell_type": "code",
   "execution_count": null,
   "id": "0696d2a6-56dd-40a3-bd90-9c1dbcbf681c",
   "metadata": {},
   "outputs": [],
   "source": [
    "%reload_ext autoreload\n",
    "from FP import *\n",
    "\n",
    "\n",
    "N_lr = 192\n",
    "N_pupils = np.arange(2, 8, 1)\n",
    "\n",
    "\n",
    "for N_phi in [0.5, 0.6, 0.7, 0.8, 0.9, 1]:\n",
    "    MSE_cpx_list = []\n",
    "    MSE_ang_list = []\n",
    "    MSE_amp_list = []\n",
    "    PSNR_ang_list = []\n",
    "    PSNR_amp_list = []\n",
    "\n",
    "    for N_p in N_pupils:\n",
    "        x_gt = torch.exp(1j*(N_phi*torch.pi*(2*(torch.rand([N_hr, N_hr])-0.5))))\n",
    "        print(f'=========== Aperture number is {N_p**2} ===========')\n",
    "\n",
    "        metrics = group_test_exclude(try_num=2, N_hr=N_hr, N_lr=N_lr, padding=1,\n",
    "                            aperture_num=N_p, is_band_limit=True, gt=x_gt, max_it_gs=1000, max_it_gd=1000,\n",
    "                            overlapping_ratio=0.75, method=method, device=device)\n",
    "\n",
    "        MSE_cpx_list.append(metrics[0])\n",
    "        MSE_ang_list.append(metrics[1])\n",
    "        MSE_amp_list.append(metrics[2])\n",
    "        PSNR_ang_list.append(metrics[3])\n",
    "        PSNR_amp_list.append(metrics[4])\n",
    "\n",
    "    np.save(f'./{out_dir}/mse_vs_aperture_number_phi{N_phi}.npy', [MSE_cpx_list, MSE_ang_list, MSE_amp_list, PSNR_ang_list, PSNR_amp_list])"
   ]
  },
  {
   "cell_type": "markdown",
   "id": "0c8cb919-b9a2-4b5a-9993-c3fb8db3775d",
   "metadata": {},
   "source": [
    "## MSE vs. aperture size and object complexity"
   ]
  },
  {
   "cell_type": "code",
   "execution_count": null,
   "id": "eabbd1b0-c0af-461d-871b-50a02ddca895",
   "metadata": {},
   "outputs": [],
   "source": [
    "%reload_ext autoreload\n",
    "from FP import *\n",
    "\n",
    "for N_phi in [0.5, 0.6, 0.7, 0.8, 0.9, 1]:\n",
    "    MSE_cpx_list = []\n",
    "    MSE_ang_list = []\n",
    "    MSE_amp_list = []\n",
    "    PSNR_ang_list = []\n",
    "    PSNR_amp_list = []\n",
    "\n",
    "    for N_lr in ratio_aperture_obj:\n",
    "        print(f'=========== Aperture size is {N_lr} ===========')\n",
    "        N_lr_single = N_lr*N_hr\n",
    "        x_gt = torch.exp(1j*(N_phi*torch.pi*(2*(torch.rand([N_hr, N_hr])-0.5))))\n",
    "\n",
    "        metrics = group_test_exclude(try_num=2, N_hr=N_hr, N_lr=N_lr_single, padding=1,\n",
    "                            aperture_num=None, is_band_limit=True, gt=x_gt,\n",
    "                            overlapping_ratio=0.65, method=method, device=device)\n",
    "\n",
    "        MSE_cpx_list.append(metrics[0])\n",
    "        MSE_ang_list.append(metrics[1])\n",
    "        MSE_amp_list.append(metrics[2])\n",
    "        PSNR_ang_list.append(metrics[3])\n",
    "        PSNR_amp_list.append(metrics[4])\n",
    "\n",
    "    np.save(f'./{out_dir}/mse_vs_aperture_size_phi{N_phi}.npy', [MSE_cpx_list, MSE_ang_list, MSE_amp_list, PSNR_ang_list, PSNR_amp_list])"
   ]
  },
  {
   "cell_type": "markdown",
   "id": "3451b68a-4c33-493c-93e2-2e559bd5cb92",
   "metadata": {},
   "source": [
    "## MSE vs. overlapping ratio with 3x3 layout"
   ]
  },
  {
   "cell_type": "code",
   "execution_count": null,
   "id": "276970ef-dcae-4922-979f-a8ca72913d70",
   "metadata": {},
   "outputs": [],
   "source": [
    "%reload_ext autoreload\n",
    "from FP import *\n",
    "\n",
    "\n",
    "ratio_spacing_aperture = [1/8, 2/8, 3/8, 4/8, 5/8, 6/8, 7/8]\n",
    "N_lrs = [64, 96, 128, 160, 192,224]\n",
    "for N_lr in N_lrs:\n",
    "    MSE_cpx_list = []\n",
    "    MSE_ang_list = []\n",
    "    MSE_amp_list = []\n",
    "    PSNR_ang_list = []\n",
    "    PSNR_amp_list = []\n",
    "\n",
    "    for ol in ratio_spacing_aperture:\n",
    "        print(f'=========== Overlapping ratio is {ol} ===========')\n",
    "\n",
    "        metrics = group_test_exclude(try_num=2, N_hr=N_hr, N_lr=N_lr, padding=1, aperture_num=3, \n",
    "                                     max_it_gs=1000, max_it_gd=1000,\n",
    "                                     overlapping_ratio=1-ol, method=method, device=device)\n",
    "\n",
    "        MSE_cpx_list.append(metrics[0])\n",
    "        MSE_ang_list.append(metrics[1])\n",
    "        MSE_amp_list.append(metrics[2])\n",
    "        PSNR_ang_list.append(metrics[3])\n",
    "        PSNR_amp_list.append(metrics[4])\n",
    "\n",
    "    np.save(f'./{out_dir}/mse_vs_overlapping_Nlr{N_lr}_A3x3.npy',\n",
    "            [MSE_cpx_list, MSE_ang_list, MSE_amp_list, PSNR_ang_list, PSNR_amp_list])\n"
   ]
  }
 ],
 "metadata": {
  "kernelspec": {
   "display_name": "Python 3 (ipykernel)",
   "language": "python",
   "name": "python3"
  },
  "language_info": {
   "codemirror_mode": {
    "name": "ipython",
    "version": 3
   },
   "file_extension": ".py",
   "mimetype": "text/x-python",
   "name": "python",
   "nbconvert_exporter": "python",
   "pygments_lexer": "ipython3",
   "version": "3.10.12"
  }
 },
 "nbformat": 4,
 "nbformat_minor": 5
}
